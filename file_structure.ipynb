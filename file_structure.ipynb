{
 "cells": [
  {
   "cell_type": "markdown",
   "metadata": {},
   "source": [
    "## Library imports"
   ]
  },
  {
   "cell_type": "code",
   "execution_count": 2,
   "metadata": {},
   "outputs": [],
   "source": [
    "import os\n",
    "import logging"
   ]
  },
  {
   "cell_type": "code",
   "execution_count": 3,
   "metadata": {},
   "outputs": [],
   "source": [
    "#Create logger \n",
    "loggr = logging.getLogger(__name__)\n",
    "loggr.setLevel(logging.INFO)\n",
    "\n",
    "#Create handler for file log output\n",
    "fhand = logging.FileHandler('filestr.log')\n",
    "f_format = logging.Formatter(\n",
    "    fmt='[%(asctime)s]%(levelname)s - %(message)s',    \n",
    "    datefmt='%Y-%m-%d %H:%M:%S')\n",
    "fhand.setFormatter(f_format)\n",
    "\n",
    "\n",
    "\n",
    "#Create handler for console log output (day information unneccessary)\n",
    "chand = logging.StreamHandler()\n",
    "c_format = logging.Formatter(\n",
    "    fmt='[%(asctime)s]%(levelname)s - %(message)s',    \n",
    "    datefmt='%H:%M:%S')\n",
    "chand.setFormatter(c_format)\n",
    "\n",
    "loggr.addHandler(fhand)\n",
    "loggr.addHandler(chand)\n"
   ]
  },
  {
   "cell_type": "markdown",
   "metadata": {},
   "source": [
    "## Images folder setup"
   ]
  },
  {
   "cell_type": "code",
   "execution_count": 6,
   "metadata": {},
   "outputs": [
    {
     "name": "stderr",
     "output_type": "stream",
     "text": [
      "[16:27:43]INFO - Images folder created\n",
      "\n"
     ]
    }
   ],
   "source": [
    "current_dir = os.getcwd()\n",
    "img_fldr = os.path.join(current_dir, 'images')\n",
    "\n",
    "#Create folder if it doesn't already exist in directory\n",
    "if not os.path.isdir(img_fldr):\n",
    "    os.mkdir(img_fldr)\n",
    "\n",
    "#Log info messages about folder creation, then close log file\n",
    "loggr.info('Images folder created\\n')\n",
    "fhand.close()\n",
    "chand.close()"
   ]
  },
  {
   "cell_type": "markdown",
   "metadata": {},
   "source": [
    "## Genus folder setup"
   ]
  },
  {
   "cell_type": "code",
   "execution_count": null,
   "metadata": {},
   "outputs": [],
   "source": []
  },
  {
   "cell_type": "markdown",
   "metadata": {},
   "source": [
    "## Species folders setup"
   ]
  },
  {
   "cell_type": "code",
   "execution_count": null,
   "metadata": {},
   "outputs": [],
   "source": []
  }
 ],
 "metadata": {
  "kernelspec": {
   "display_name": "Python 3.10.6 64-bit",
   "language": "python",
   "name": "python3"
  },
  "language_info": {
   "codemirror_mode": {
    "name": "ipython",
    "version": 3
   },
   "file_extension": ".py",
   "mimetype": "text/x-python",
   "name": "python",
   "nbconvert_exporter": "python",
   "pygments_lexer": "ipython3",
   "version": "3.10.6"
  },
  "orig_nbformat": 4,
  "vscode": {
   "interpreter": {
    "hash": "b77fb8f0dc80055a15e0f14c8c7a3cc9c040066399240d41e58ffae1d5b87ebd"
   }
  }
 },
 "nbformat": 4,
 "nbformat_minor": 2
}
